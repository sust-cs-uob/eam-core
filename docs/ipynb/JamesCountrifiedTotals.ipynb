{
 "cells": [
  {
   "cell_type": "code",
   "execution_count": 32,
   "id": "87457357",
   "metadata": {},
   "outputs": [],
   "source": [
    "import numpy as np\n",
    "import pandas as pd\n",
    "import pint\n",
    "import pint_pandas"
   ]
  },
  {
   "cell_type": "code",
   "execution_count": 33,
   "id": "b62de59b",
   "metadata": {},
   "outputs": [
    {
     "ename": "FileNotFoundError",
     "evalue": "[Errno 2] No such file or directory: '../../../model-sandbox/store energy.pickle'",
     "output_type": "error",
     "traceback": [
      "\u001B[0;31m---------------------------------------------------------------------------\u001B[0m",
      "\u001B[0;31mFileNotFoundError\u001B[0m                         Traceback (most recent call last)",
      "\u001B[0;32m/tmp/ipykernel_204887/551466606.py\u001B[0m in \u001B[0;36m<module>\u001B[0;34m\u001B[0m\n\u001B[0;32m----> 1\u001B[0;31m \u001B[0mdf_energy\u001B[0m \u001B[0;34m=\u001B[0m \u001B[0mpd\u001B[0m\u001B[0;34m.\u001B[0m\u001B[0mread_pickle\u001B[0m\u001B[0;34m(\u001B[0m\u001B[0;34m\"../../../model-sandbox/store energy.pickle\"\u001B[0m\u001B[0;34m)\u001B[0m\u001B[0;34m.\u001B[0m\u001B[0mpint\u001B[0m\u001B[0;34m.\u001B[0m\u001B[0mquantify\u001B[0m\u001B[0;34m(\u001B[0m\u001B[0;34m)\u001B[0m\u001B[0;34m\u001B[0m\u001B[0;34m\u001B[0m\u001B[0m\n\u001B[0m\u001B[1;32m      2\u001B[0m \u001B[0mdf_carbon\u001B[0m \u001B[0;34m=\u001B[0m \u001B[0mpd\u001B[0m\u001B[0;34m.\u001B[0m\u001B[0mread_pickle\u001B[0m\u001B[0;34m(\u001B[0m\u001B[0;34m\"../../../model-sandbox/store carbon.pickle\"\u001B[0m\u001B[0;34m)\u001B[0m\u001B[0;34m.\u001B[0m\u001B[0mpint\u001B[0m\u001B[0;34m.\u001B[0m\u001B[0mquantify\u001B[0m\u001B[0;34m(\u001B[0m\u001B[0;34m)\u001B[0m\u001B[0;34m\u001B[0m\u001B[0;34m\u001B[0m\u001B[0m\n\u001B[1;32m      3\u001B[0m \u001B[0;34m\u001B[0m\u001B[0m\n\u001B[1;32m      4\u001B[0m \u001B[0mres\u001B[0m \u001B[0;34m=\u001B[0m \u001B[0mdf_energy\u001B[0m\u001B[0;34m.\u001B[0m\u001B[0mgroupby\u001B[0m\u001B[0;34m(\u001B[0m\u001B[0mlevel\u001B[0m\u001B[0;34m=\u001B[0m\u001B[0;34m[\u001B[0m\u001B[0;34m'time'\u001B[0m\u001B[0;34m,\u001B[0m \u001B[0;34m'samples'\u001B[0m\u001B[0;34m]\u001B[0m\u001B[0;34m)\u001B[0m\u001B[0;34m.\u001B[0m\u001B[0msum\u001B[0m\u001B[0;34m(\u001B[0m\u001B[0;34m)\u001B[0m\u001B[0;34m\u001B[0m\u001B[0;34m\u001B[0m\u001B[0m\n\u001B[1;32m      5\u001B[0m \u001B[0;34m\u001B[0m\u001B[0m\n",
      "\u001B[0;32m~/dimpact/env/lib/python3.8/site-packages/pandas/io/pickle.py\u001B[0m in \u001B[0;36mread_pickle\u001B[0;34m(filepath_or_buffer, compression, storage_options)\u001B[0m\n\u001B[1;32m    194\u001B[0m     \"\"\"\n\u001B[1;32m    195\u001B[0m     \u001B[0mexcs_to_catch\u001B[0m \u001B[0;34m=\u001B[0m \u001B[0;34m(\u001B[0m\u001B[0mAttributeError\u001B[0m\u001B[0;34m,\u001B[0m \u001B[0mImportError\u001B[0m\u001B[0;34m,\u001B[0m \u001B[0mModuleNotFoundError\u001B[0m\u001B[0;34m,\u001B[0m \u001B[0mTypeError\u001B[0m\u001B[0;34m)\u001B[0m\u001B[0;34m\u001B[0m\u001B[0;34m\u001B[0m\u001B[0m\n\u001B[0;32m--> 196\u001B[0;31m     with get_handle(\n\u001B[0m\u001B[1;32m    197\u001B[0m         \u001B[0mfilepath_or_buffer\u001B[0m\u001B[0;34m,\u001B[0m\u001B[0;34m\u001B[0m\u001B[0;34m\u001B[0m\u001B[0m\n\u001B[1;32m    198\u001B[0m         \u001B[0;34m\"rb\"\u001B[0m\u001B[0;34m,\u001B[0m\u001B[0;34m\u001B[0m\u001B[0;34m\u001B[0m\u001B[0m\n",
      "\u001B[0;32m~/dimpact/env/lib/python3.8/site-packages/pandas/io/common.py\u001B[0m in \u001B[0;36mget_handle\u001B[0;34m(path_or_buf, mode, encoding, compression, memory_map, is_text, errors, storage_options)\u001B[0m\n\u001B[1;32m    708\u001B[0m         \u001B[0;32melse\u001B[0m\u001B[0;34m:\u001B[0m\u001B[0;34m\u001B[0m\u001B[0;34m\u001B[0m\u001B[0m\n\u001B[1;32m    709\u001B[0m             \u001B[0;31m# Binary mode\u001B[0m\u001B[0;34m\u001B[0m\u001B[0;34m\u001B[0m\u001B[0;34m\u001B[0m\u001B[0m\n\u001B[0;32m--> 710\u001B[0;31m             \u001B[0mhandle\u001B[0m \u001B[0;34m=\u001B[0m \u001B[0mopen\u001B[0m\u001B[0;34m(\u001B[0m\u001B[0mhandle\u001B[0m\u001B[0;34m,\u001B[0m \u001B[0mioargs\u001B[0m\u001B[0;34m.\u001B[0m\u001B[0mmode\u001B[0m\u001B[0;34m)\u001B[0m\u001B[0;34m\u001B[0m\u001B[0;34m\u001B[0m\u001B[0m\n\u001B[0m\u001B[1;32m    711\u001B[0m         \u001B[0mhandles\u001B[0m\u001B[0;34m.\u001B[0m\u001B[0mappend\u001B[0m\u001B[0;34m(\u001B[0m\u001B[0mhandle\u001B[0m\u001B[0;34m)\u001B[0m\u001B[0;34m\u001B[0m\u001B[0;34m\u001B[0m\u001B[0m\n\u001B[1;32m    712\u001B[0m \u001B[0;34m\u001B[0m\u001B[0m\n",
      "\u001B[0;31mFileNotFoundError\u001B[0m: [Errno 2] No such file or directory: '../../../model-sandbox/store energy.pickle'"
     ]
    }
   ],
   "source": [
    "df_energy = pd.read_pickle(\"../../../model-sandbox/store energy.pickle\").pint.quantify()\n",
    "df_carbon = pd.read_pickle(\"../../../model-sandbox/store carbon.pickle\").pint.quantify()\n",
    "\n",
    "res = df_energy.groupby(level=['time', 'samples']).sum()\n",
    "\n",
    "df_energy.reset_index().append(res).set_index(df_energy.index.names)"
   ]
  },
  {
   "cell_type": "code",
   "execution_count": null,
   "id": "4b54aad4",
   "metadata": {
    "scrolled": true
   },
   "outputs": [],
   "source": [
    "df_energy.reorder_levels(['group', 'time', 'samples'])"
   ]
  },
  {
   "cell_type": "code",
   "execution_count": null,
   "id": "a7b7cacf",
   "metadata": {
    "scrolled": true
   },
   "outputs": [],
   "source": [
    "df_carbon"
   ]
  },
  {
   "cell_type": "code",
   "execution_count": null,
   "id": "c5f10592",
   "metadata": {},
   "outputs": [],
   "source": [
    "from eam_core.util import h5load\n",
    "from eam_core.util import load_as_plain_df\n",
    "\n",
    "df_energy,m = load_as_plain_df(\"pickle_data/result_data_energy.hdf5\")\n",
    "df_carbon,m = load_as_plain_df(\"pickle_data/result_data_carbon.hdf5\")\n",
    "\n",
    "res = df_energy.groupby(level=['time', 'samples']).sum()\n",
    "\n",
    "# df_energy.reset_index().append(res).set_index(df_energy.index.names)\n",
    "#df_energy = df_energy.mean(level=['time']).mean().to_frame(name='default')\n",
    "df_energy = df_energy.reorder_levels(['group', 'time', 'samples']).groupby(level=['group']).mean()\n",
    "df_energy"
   ]
  }
 ],
 "metadata": {
  "kernelspec": {
   "display_name": "Python 3 (ipykernel)",
   "language": "python",
   "name": "python3"
  },
  "language_info": {
   "codemirror_mode": {
    "name": "ipython",
    "version": 3
   },
   "file_extension": ".py",
   "mimetype": "text/x-python",
   "name": "python",
   "nbconvert_exporter": "python",
   "pygments_lexer": "ipython3",
   "version": "3.8.10"
  }
 },
 "nbformat": 4,
 "nbformat_minor": 5
}