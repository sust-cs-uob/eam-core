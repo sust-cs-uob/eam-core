{
 "cells": [
  {
   "cell_type": "code",
   "execution_count": 3,
   "metadata": {},
   "outputs": [],
   "source": [
    "%matplotlib inline"
   ]
  },
  {
   "cell_type": "code",
   "execution_count": 4,
   "metadata": {},
   "outputs": [
    {
     "name": "stdout",
     "output_type": "stream",
     "text": [
      "[\u001B[1mroot                \u001B[0m][\u001B[1;32mINFO\u001B[0m   ]  Configured logging from /Users/csxds/workspaces/python/eam-core/src/eam_core/logconf.yml (\u001B[1mlog_configuration.py\u001B[0m:22)\n"
     ]
    }
   ],
   "source": [
    "from eam_core.util import h5load\n",
    "import os"
   ]
  },
  {
   "cell_type": "code",
   "execution_count": 12,
   "metadata": {},
   "outputs": [],
   "source": [
    "d,m = h5load('../../output/20200508-120419/default/result_data_energy.hdf5')\n",
    "# d,m = h5load('../../../output/1/CI_model/20200508-114814/result_data_energy.hdf5')\n",
    "# os.getcwd()"
   ]
  },
  {
   "cell_type": "code",
   "execution_count": 13,
   "metadata": {},
   "outputs": [
    {
     "data": {
      "text/plain": [
       "MultiIndex(levels=[['CDN', 'Cellular Internet Network', 'Desktop And Monitor', 'Domestic Main TV', 'Domestic Secondary TV', 'Fixed Line Internet Network', 'Laptop', 'Smartphone', 'Tablet'], ['gigawatt_hour']],\n",
       "           codes=[[0, 5, 1, 3, 4, 2, 6, 8, 7], [0, 0, 0, 0, 0, 0, 0, 0, 0]],\n",
       "           names=[None, 'unit'])"
      ]
     },
     "execution_count": 13,
     "metadata": {},
     "output_type": "execute_result"
    }
   ],
   "source": [
    "d.columns"
   ]
  },
  {
   "cell_type": "code",
   "execution_count": 21,
   "metadata": {},
   "outputs": [
    {
     "data": {
      "text/html": [
       "<div>\n",
       "<style scoped>\n",
       "    .dataframe tbody tr th:only-of-type {\n",
       "        vertical-align: middle;\n",
       "    }\n",
       "\n",
       "    .dataframe tbody tr th {\n",
       "        vertical-align: top;\n",
       "    }\n",
       "\n",
       "    .dataframe thead th {\n",
       "        text-align: right;\n",
       "    }\n",
       "</style>\n",
       "<table border=\"1\" class=\"dataframe\">\n",
       "  <thead>\n",
       "    <tr style=\"text-align: right;\">\n",
       "      <th>unit</th>\n",
       "      <th>gigawatt_hour</th>\n",
       "    </tr>\n",
       "    <tr>\n",
       "      <th>time</th>\n",
       "      <th></th>\n",
       "    </tr>\n",
       "  </thead>\n",
       "  <tbody>\n",
       "    <tr>\n",
       "      <th>2018-01-01</th>\n",
       "      <td>-0.460608</td>\n",
       "    </tr>\n",
       "    <tr>\n",
       "      <th>2018-02-01</th>\n",
       "      <td>-0.499734</td>\n",
       "    </tr>\n",
       "    <tr>\n",
       "      <th>2018-03-01</th>\n",
       "      <td>-0.527652</td>\n",
       "    </tr>\n",
       "    <tr>\n",
       "      <th>2018-04-01</th>\n",
       "      <td>-0.638466</td>\n",
       "    </tr>\n",
       "    <tr>\n",
       "      <th>2018-05-01</th>\n",
       "      <td>-0.621054</td>\n",
       "    </tr>\n",
       "    <tr>\n",
       "      <th>2018-06-01</th>\n",
       "      <td>-0.654489</td>\n",
       "    </tr>\n",
       "    <tr>\n",
       "      <th>2018-07-01</th>\n",
       "      <td>-0.723429</td>\n",
       "    </tr>\n",
       "    <tr>\n",
       "      <th>2018-08-01</th>\n",
       "      <td>-0.638021</td>\n",
       "    </tr>\n",
       "    <tr>\n",
       "      <th>2018-09-01</th>\n",
       "      <td>-0.550025</td>\n",
       "    </tr>\n",
       "    <tr>\n",
       "      <th>2018-10-01</th>\n",
       "      <td>-0.657083</td>\n",
       "    </tr>\n",
       "    <tr>\n",
       "      <th>2018-11-01</th>\n",
       "      <td>-0.607381</td>\n",
       "    </tr>\n",
       "    <tr>\n",
       "      <th>2018-12-01</th>\n",
       "      <td>-0.741482</td>\n",
       "    </tr>\n",
       "    <tr>\n",
       "      <th>2019-01-01</th>\n",
       "      <td>-0.812022</td>\n",
       "    </tr>\n",
       "  </tbody>\n",
       "</table>\n",
       "</div>"
      ],
      "text/plain": [
       "unit        gigawatt_hour\n",
       "time                     \n",
       "2018-01-01      -0.460608\n",
       "2018-02-01      -0.499734\n",
       "2018-03-01      -0.527652\n",
       "2018-04-01      -0.638466\n",
       "2018-05-01      -0.621054\n",
       "2018-06-01      -0.654489\n",
       "2018-07-01      -0.723429\n",
       "2018-08-01      -0.638021\n",
       "2018-09-01      -0.550025\n",
       "2018-10-01      -0.657083\n",
       "2018-11-01      -0.607381\n",
       "2018-12-01      -0.741482\n",
       "2019-01-01      -0.812022"
      ]
     },
     "execution_count": 21,
     "metadata": {},
     "output_type": "execute_result"
    }
   ],
   "source": [
    "lci = d['Cellular Infrastructure'].groupby(level=['time']).quantile(.05)"
   ]
  },
  {
   "cell_type": "code",
   "execution_count": 22,
   "metadata": {},
   "outputs": [],
   "source": [
    "lci=d['Cellular Infrastructure'].groupby(level=['time']).quantile(.05)\n",
    "uci=d['Cellular Infrastructure'].groupby(level=['time']).quantile(.95)"
   ]
  },
  {
   "cell_type": "code",
   "execution_count": 25,
   "metadata": {},
   "outputs": [],
   "source": [
    "_mean = d['Cellular Infrastructure'].mean(level='time')"
   ]
  },
  {
   "cell_type": "code",
   "execution_count": 27,
   "metadata": {},
   "outputs": [
    {
     "data": {
      "text/plain": [
       "DatetimeIndex(['2018-01-01', '2018-02-01', '2018-03-01', '2018-04-01',\n",
       "               '2018-05-01', '2018-06-01', '2018-07-01', '2018-08-01',\n",
       "               '2018-09-01', '2018-10-01', '2018-11-01', '2018-12-01',\n",
       "               '2019-01-01'],\n",
       "              dtype='datetime64[ns]', name='time', freq=None)"
      ]
     },
     "execution_count": 27,
     "metadata": {},
     "output_type": "execute_result"
    }
   ],
   "source": [
    "d['Cellular Infrastructure'].index.unique(level='time')"
   ]
  },
  {
   "cell_type": "code",
   "execution_count": 34,
   "metadata": {},
   "outputs": [
    {
     "data": {
      "text/plain": [
       "time\n",
       "2018-01-01   -0.460608\n",
       "2018-02-01   -0.499734\n",
       "2018-03-01   -0.527652\n",
       "2018-04-01   -0.638466\n",
       "2018-05-01   -0.621054\n",
       "2018-06-01   -0.654489\n",
       "2018-07-01   -0.723429\n",
       "2018-08-01   -0.638021\n",
       "2018-09-01   -0.550025\n",
       "2018-10-01   -0.657083\n",
       "2018-11-01   -0.607381\n",
       "2018-12-01   -0.741482\n",
       "2019-01-01   -0.812022\n",
       "Name: gigawatt_hour, dtype: float64"
      ]
     },
     "execution_count": 34,
     "metadata": {},
     "output_type": "execute_result"
    }
   ],
   "source": [
    "lci['gigawatt_hour']"
   ]
  },
  {
   "cell_type": "code",
   "execution_count": 37,
   "metadata": {},
   "outputs": [
    {
     "data": {
      "text/plain": [
       "<matplotlib.collections.PolyCollection at 0x10bdabdf0>"
      ]
     },
     "execution_count": 37,
     "metadata": {},
     "output_type": "execute_result"
    },
    {
     "data": {
      "image/png": "[encoded data removed]",
      "text/plain": [
       "<Figure size 432x288 with 1 Axes>"
      ]
     },
     "metadata": {
      "needs_background": "light"
     },
     "output_type": "display_data"
    }
   ],
   "source": [
    "ax = _mean.plot()\n",
    "ax.fill_between(d['Cellular Infrastructure'].index.unique(level='time'), lci['gigawatt_hour'], uci['gigawatt_hour'], alpha=.25)"
   ]
  },
  {
   "cell_type": "code",
   "execution_count": 38,
   "metadata": {},
   "outputs": [
    {
     "ename": "NameError",
     "evalue": "name 'plt' is not defined",
     "output_type": "error",
     "traceback": [
      "\u001B[0;31m---------------------------------------------------------------------------\u001B[0m",
      "\u001B[0;31mNameError\u001B[0m                                 Traceback (most recent call last)",
      "\u001B[0;32m<ipython-input-38-cd653b2c8062>\u001B[0m in \u001B[0;36m<module>\u001B[0;34m\u001B[0m\n\u001B[0;32m----> 1\u001B[0;31m \u001B[0mplt\u001B[0m\u001B[0;34m\u001B[0m\u001B[0;34m\u001B[0m\u001B[0m\n\u001B[0m",
      "\u001B[0;31mNameError\u001B[0m: name 'plt' is not defined"
     ]
    }
   ],
   "source": []
  },
  {
   "cell_type": "code",
   "execution_count": 9,
   "metadata": {},
   "outputs": [
    {
     "data": {
      "text/html": [
       "<div>\n",
       "<style scoped>\n",
       "    .dataframe tbody tr th:only-of-type {\n",
       "        vertical-align: middle;\n",
       "    }\n",
       "\n",
       "    .dataframe tbody tr th {\n",
       "        vertical-align: top;\n",
       "    }\n",
       "\n",
       "    .dataframe thead th {\n",
       "        text-align: right;\n",
       "    }\n",
       "</style>\n",
       "<table border=\"1\" class=\"dataframe\">\n",
       "  <thead>\n",
       "    <tr style=\"text-align: right;\">\n",
       "      <th></th>\n",
       "      <th></th>\n",
       "      <th>ProcessA</th>\n",
       "      <th>ProcessB</th>\n",
       "    </tr>\n",
       "    <tr>\n",
       "      <th>time</th>\n",
       "      <th>samples</th>\n",
       "      <th></th>\n",
       "      <th></th>\n",
       "    </tr>\n",
       "  </thead>\n",
       "  <tbody>\n",
       "    <tr>\n",
       "      <th rowspan=\"61\" valign=\"top\">2019-01-01</th>\n",
       "      <th>0</th>\n",
       "      <td>40.0</td>\n",
       "      <td>40.0</td>\n",
       "    </tr>\n",
       "    <tr>\n",
       "      <th>1</th>\n",
       "      <td>40.0</td>\n",
       "      <td>40.0</td>\n",
       "    </tr>\n",
       "    <tr>\n",
       "      <th>2</th>\n",
       "      <td>40.0</td>\n",
       "      <td>40.0</td>\n",
       "    </tr>\n",
       "    <tr>\n",
       "      <th>3</th>\n",
       "      <td>40.0</td>\n",
       "      <td>40.0</td>\n",
       "    </tr>\n",
       "    <tr>\n",
       "      <th>4</th>\n",
       "      <td>40.0</td>\n",
       "      <td>40.0</td>\n",
       "    </tr>\n",
       "    <tr>\n",
       "      <th>5</th>\n",
       "      <td>40.0</td>\n",
       "      <td>40.0</td>\n",
       "    </tr>\n",
       "    <tr>\n",
       "      <th>6</th>\n",
       "      <td>40.0</td>\n",
       "      <td>40.0</td>\n",
       "    </tr>\n",
       "    <tr>\n",
       "      <th>7</th>\n",
       "      <td>40.0</td>\n",
       "      <td>40.0</td>\n",
       "    </tr>\n",
       "    <tr>\n",
       "      <th>8</th>\n",
       "      <td>40.0</td>\n",
       "      <td>40.0</td>\n",
       "    </tr>\n",
       "    <tr>\n",
       "      <th>9</th>\n",
       "      <td>40.0</td>\n",
       "      <td>40.0</td>\n",
       "    </tr>\n",
       "    <tr>\n",
       "      <th>10</th>\n",
       "      <td>40.0</td>\n",
       "      <td>40.0</td>\n",
       "    </tr>\n",
       "    <tr>\n",
       "      <th>11</th>\n",
       "      <td>40.0</td>\n",
       "      <td>40.0</td>\n",
       "    </tr>\n",
       "    <tr>\n",
       "      <th>12</th>\n",
       "      <td>40.0</td>\n",
       "      <td>40.0</td>\n",
       "    </tr>\n",
       "    <tr>\n",
       "      <th>13</th>\n",
       "      <td>40.0</td>\n",
       "      <td>40.0</td>\n",
       "    </tr>\n",
       "    <tr>\n",
       "      <th>14</th>\n",
       "      <td>40.0</td>\n",
       "      <td>40.0</td>\n",
       "    </tr>\n",
       "    <tr>\n",
       "      <th>15</th>\n",
       "      <td>40.0</td>\n",
       "      <td>40.0</td>\n",
       "    </tr>\n",
       "    <tr>\n",
       "      <th>16</th>\n",
       "      <td>40.0</td>\n",
       "      <td>40.0</td>\n",
       "    </tr>\n",
       "    <tr>\n",
       "      <th>17</th>\n",
       "      <td>40.0</td>\n",
       "      <td>40.0</td>\n",
       "    </tr>\n",
       "    <tr>\n",
       "      <th>18</th>\n",
       "      <td>40.0</td>\n",
       "      <td>40.0</td>\n",
       "    </tr>\n",
       "    <tr>\n",
       "      <th>19</th>\n",
       "      <td>40.0</td>\n",
       "      <td>40.0</td>\n",
       "    </tr>\n",
       "    <tr>\n",
       "      <th>20</th>\n",
       "      <td>40.0</td>\n",
       "      <td>40.0</td>\n",
       "    </tr>\n",
       "    <tr>\n",
       "      <th>21</th>\n",
       "      <td>40.0</td>\n",
       "      <td>40.0</td>\n",
       "    </tr>\n",
       "    <tr>\n",
       "      <th>22</th>\n",
       "      <td>40.0</td>\n",
       "      <td>40.0</td>\n",
       "    </tr>\n",
       "    <tr>\n",
       "      <th>23</th>\n",
       "      <td>40.0</td>\n",
       "      <td>40.0</td>\n",
       "    </tr>\n",
       "    <tr>\n",
       "      <th>24</th>\n",
       "      <td>40.0</td>\n",
       "      <td>40.0</td>\n",
       "    </tr>\n",
       "    <tr>\n",
       "      <th>25</th>\n",
       "      <td>40.0</td>\n",
       "      <td>40.0</td>\n",
       "    </tr>\n",
       "    <tr>\n",
       "      <th>26</th>\n",
       "      <td>40.0</td>\n",
       "      <td>40.0</td>\n",
       "    </tr>\n",
       "    <tr>\n",
       "      <th>27</th>\n",
       "      <td>40.0</td>\n",
       "      <td>40.0</td>\n",
       "    </tr>\n",
       "    <tr>\n",
       "      <th>28</th>\n",
       "      <td>40.0</td>\n",
       "      <td>40.0</td>\n",
       "    </tr>\n",
       "    <tr>\n",
       "      <th>29</th>\n",
       "      <td>40.0</td>\n",
       "      <td>40.0</td>\n",
       "    </tr>\n",
       "    <tr>\n",
       "      <th>...</th>\n",
       "      <td>...</td>\n",
       "      <td>...</td>\n",
       "    </tr>\n",
       "    <tr>\n",
       "      <th>70</th>\n",
       "      <td>40.0</td>\n",
       "      <td>40.0</td>\n",
       "    </tr>\n",
       "    <tr>\n",
       "      <th>71</th>\n",
       "      <td>40.0</td>\n",
       "      <td>40.0</td>\n",
       "    </tr>\n",
       "    <tr>\n",
       "      <th>72</th>\n",
       "      <td>40.0</td>\n",
       "      <td>40.0</td>\n",
       "    </tr>\n",
       "    <tr>\n",
       "      <th>73</th>\n",
       "      <td>40.0</td>\n",
       "      <td>40.0</td>\n",
       "    </tr>\n",
       "    <tr>\n",
       "      <th>74</th>\n",
       "      <td>40.0</td>\n",
       "      <td>40.0</td>\n",
       "    </tr>\n",
       "    <tr>\n",
       "      <th>75</th>\n",
       "      <td>40.0</td>\n",
       "      <td>40.0</td>\n",
       "    </tr>\n",
       "    <tr>\n",
       "      <th>76</th>\n",
       "      <td>40.0</td>\n",
       "      <td>40.0</td>\n",
       "    </tr>\n",
       "    <tr>\n",
       "      <th>77</th>\n",
       "      <td>40.0</td>\n",
       "      <td>40.0</td>\n",
       "    </tr>\n",
       "    <tr>\n",
       "      <th>78</th>\n",
       "      <td>40.0</td>\n",
       "      <td>40.0</td>\n",
       "    </tr>\n",
       "    <tr>\n",
       "      <th>79</th>\n",
       "      <td>40.0</td>\n",
       "      <td>40.0</td>\n",
       "    </tr>\n",
       "    <tr>\n",
       "      <th>80</th>\n",
       "      <td>40.0</td>\n",
       "      <td>40.0</td>\n",
       "    </tr>\n",
       "    <tr>\n",
       "      <th>81</th>\n",
       "      <td>40.0</td>\n",
       "      <td>40.0</td>\n",
       "    </tr>\n",
       "    <tr>\n",
       "      <th>82</th>\n",
       "      <td>40.0</td>\n",
       "      <td>40.0</td>\n",
       "    </tr>\n",
       "    <tr>\n",
       "      <th>83</th>\n",
       "      <td>40.0</td>\n",
       "      <td>40.0</td>\n",
       "    </tr>\n",
       "    <tr>\n",
       "      <th>84</th>\n",
       "      <td>40.0</td>\n",
       "      <td>40.0</td>\n",
       "    </tr>\n",
       "    <tr>\n",
       "      <th>85</th>\n",
       "      <td>40.0</td>\n",
       "      <td>40.0</td>\n",
       "    </tr>\n",
       "    <tr>\n",
       "      <th>86</th>\n",
       "      <td>40.0</td>\n",
       "      <td>40.0</td>\n",
       "    </tr>\n",
       "    <tr>\n",
       "      <th>87</th>\n",
       "      <td>40.0</td>\n",
       "      <td>40.0</td>\n",
       "    </tr>\n",
       "    <tr>\n",
       "      <th>88</th>\n",
       "      <td>40.0</td>\n",
       "      <td>40.0</td>\n",
       "    </tr>\n",
       "    <tr>\n",
       "      <th>89</th>\n",
       "      <td>40.0</td>\n",
       "      <td>40.0</td>\n",
       "    </tr>\n",
       "    <tr>\n",
       "      <th>90</th>\n",
       "      <td>40.0</td>\n",
       "      <td>40.0</td>\n",
       "    </tr>\n",
       "    <tr>\n",
       "      <th>91</th>\n",
       "      <td>40.0</td>\n",
       "      <td>40.0</td>\n",
       "    </tr>\n",
       "    <tr>\n",
       "      <th>92</th>\n",
       "      <td>40.0</td>\n",
       "      <td>40.0</td>\n",
       "    </tr>\n",
       "    <tr>\n",
       "      <th>93</th>\n",
       "      <td>40.0</td>\n",
       "      <td>40.0</td>\n",
       "    </tr>\n",
       "    <tr>\n",
       "      <th>94</th>\n",
       "      <td>40.0</td>\n",
       "      <td>40.0</td>\n",
       "    </tr>\n",
       "    <tr>\n",
       "      <th>95</th>\n",
       "      <td>40.0</td>\n",
       "      <td>40.0</td>\n",
       "    </tr>\n",
       "    <tr>\n",
       "      <th>96</th>\n",
       "      <td>40.0</td>\n",
       "      <td>40.0</td>\n",
       "    </tr>\n",
       "    <tr>\n",
       "      <th>97</th>\n",
       "      <td>40.0</td>\n",
       "      <td>40.0</td>\n",
       "    </tr>\n",
       "    <tr>\n",
       "      <th>98</th>\n",
       "      <td>40.0</td>\n",
       "      <td>40.0</td>\n",
       "    </tr>\n",
       "    <tr>\n",
       "      <th>99</th>\n",
       "      <td>40.0</td>\n",
       "      <td>40.0</td>\n",
       "    </tr>\n",
       "  </tbody>\n",
       "</table>\n",
       "<p>100 rows × 2 columns</p>\n",
       "</div>"
      ],
      "text/plain": [
       "                   ProcessA ProcessB\n",
       "time       samples                  \n",
       "2019-01-01 0           40.0     40.0\n",
       "           1           40.0     40.0\n",
       "           2           40.0     40.0\n",
       "           3           40.0     40.0\n",
       "           4           40.0     40.0\n",
       "           5           40.0     40.0\n",
       "           6           40.0     40.0\n",
       "           7           40.0     40.0\n",
       "           8           40.0     40.0\n",
       "           9           40.0     40.0\n",
       "           10          40.0     40.0\n",
       "           11          40.0     40.0\n",
       "           12          40.0     40.0\n",
       "           13          40.0     40.0\n",
       "           14          40.0     40.0\n",
       "           15          40.0     40.0\n",
       "           16          40.0     40.0\n",
       "           17          40.0     40.0\n",
       "           18          40.0     40.0\n",
       "           19          40.0     40.0\n",
       "           20          40.0     40.0\n",
       "           21          40.0     40.0\n",
       "           22          40.0     40.0\n",
       "           23          40.0     40.0\n",
       "           24          40.0     40.0\n",
       "           25          40.0     40.0\n",
       "           26          40.0     40.0\n",
       "           27          40.0     40.0\n",
       "           28          40.0     40.0\n",
       "           29          40.0     40.0\n",
       "...                     ...      ...\n",
       "           70          40.0     40.0\n",
       "           71          40.0     40.0\n",
       "           72          40.0     40.0\n",
       "           73          40.0     40.0\n",
       "           74          40.0     40.0\n",
       "           75          40.0     40.0\n",
       "           76          40.0     40.0\n",
       "           77          40.0     40.0\n",
       "           78          40.0     40.0\n",
       "           79          40.0     40.0\n",
       "           80          40.0     40.0\n",
       "           81          40.0     40.0\n",
       "           82          40.0     40.0\n",
       "           83          40.0     40.0\n",
       "           84          40.0     40.0\n",
       "           85          40.0     40.0\n",
       "           86          40.0     40.0\n",
       "           87          40.0     40.0\n",
       "           88          40.0     40.0\n",
       "           89          40.0     40.0\n",
       "           90          40.0     40.0\n",
       "           91          40.0     40.0\n",
       "           92          40.0     40.0\n",
       "           93          40.0     40.0\n",
       "           94          40.0     40.0\n",
       "           95          40.0     40.0\n",
       "           96          40.0     40.0\n",
       "           97          40.0     40.0\n",
       "           98          40.0     40.0\n",
       "           99          40.0     40.0\n",
       "\n",
       "[100 rows x 2 columns]"
      ]
     },
     "execution_count": 9,
     "metadata": {},
     "output_type": "execute_result"
    }
   ],
   "source": [
    "d.pint.quantify(level=-1)"
   ]
  },
  {
   "cell_type": "code",
   "execution_count": 4,
   "metadata": {},
   "outputs": [
    {
     "data": {
      "text/plain": [
       "time        samples\n",
       "2016-01-01  0          7.892703e+02\n",
       "2016-02-01  0          7.926263e+02\n",
       "2016-03-01  0          7.957636e+02\n",
       "2016-04-01  0          7.991151e+02\n",
       "2016-05-01  0          8.023563e+02\n",
       "2016-06-01  0          8.057032e+02\n",
       "2016-07-01  0          8.089399e+02\n",
       "2016-08-01  0          8.122822e+02\n",
       "2016-09-01  0          8.156222e+02\n",
       "2016-10-01  0          8.188521e+02\n",
       "2016-11-01  0          8.221874e+02\n",
       "2016-12-01  0          8.254128e+02\n",
       "2017-01-01  0          8.287433e+02\n",
       "2017-02-01  0          8.320714e+02\n",
       "2017-03-01  0          8.350754e+02\n",
       "2017-04-01  0          8.383989e+02\n",
       "2017-05-01  0          8.416129e+02\n",
       "2017-06-01  0          8.449316e+02\n",
       "2017-07-01  0          8.481409e+02\n",
       "2017-08-01  0          8.514548e+02\n",
       "2017-09-01  0          8.547662e+02\n",
       "2017-10-01  0          8.579683e+02\n",
       "2017-11-01  0          8.612748e+02\n",
       "2017-12-01  0          8.644722e+02\n",
       "2018-01-01  0          8.677738e+02\n",
       "2018-02-01  0          8.710728e+02\n",
       "2018-03-01  0          8.740503e+02\n",
       "2018-04-01  0          8.773445e+02\n",
       "2018-05-01  0          8.805299e+02\n",
       "2018-06-01  0          8.838190e+02\n",
       "                           ...     \n",
       "2033-08-01  0          2.498068e+06\n",
       "2033-09-01  0          2.509504e+06\n",
       "2033-10-01  0          2.520586e+06\n",
       "2033-11-01  0          2.532052e+06\n",
       "2033-12-01  0          2.543163e+06\n",
       "2034-01-01  0          2.554658e+06\n",
       "2034-02-01  0          2.566168e+06\n",
       "2034-03-01  0          2.576578e+06\n",
       "2034-04-01  0          2.588116e+06\n",
       "2034-05-01  0          2.599297e+06\n",
       "2034-06-01  0          2.610865e+06\n",
       "2034-07-01  0          2.622075e+06\n",
       "2034-08-01  0          2.633672e+06\n",
       "2034-09-01  0          2.645285e+06\n",
       "2034-10-01  0          2.656537e+06\n",
       "2034-11-01  0          2.668180e+06\n",
       "2034-12-01  0          2.679461e+06\n",
       "2035-01-01  0          2.691132e+06\n",
       "2035-02-01  0          2.702819e+06\n",
       "2035-03-01  0          2.713388e+06\n",
       "2035-04-01  0          2.725103e+06\n",
       "2035-05-01  0          2.736455e+06\n",
       "2035-06-01  0          2.748200e+06\n",
       "2035-07-01  0          2.759580e+06\n",
       "2035-08-01  0          2.771355e+06\n",
       "2035-09-01  0          2.783144e+06\n",
       "2035-10-01  0          2.794568e+06\n",
       "2035-11-01  0          2.806388e+06\n",
       "2035-12-01  0          2.817840e+06\n",
       "2036-01-01  0          2.829689e+06\n",
       "Name: number_iplayer_4_5g_hh, Length: 241, dtype: float64"
      ]
     },
     "execution_count": 4,
     "metadata": {},
     "output_type": "execute_result"
    }
   ],
   "source": [
    "d['number_iplayer_4_5g_hh']"
   ]
  },
  {
   "cell_type": "code",
   "execution_count": 1,
   "metadata": {},
   "outputs": [],
   "source": [
    "import json\n",
    "from ngmodel.SimulationRunner import SimulationRunner\n",
    "from ngmodel.YamlLoader import YamlLoader\n",
    "from ngmodel.common_graphical_analysis import load_metadata\n",
    "from ngmodel.core import complex_decoder, complex_encoder, ServiceModel, ScalarDataSource, ExcelDataSource, \\\n",
    "    SimulationControl\n",
    "\n",
    "import numpy as np\n",
    "from ngmodel.util import create_output_folder, load_as_df_qantity"
   ]
  },
  {
   "cell_type": "code",
   "execution_count": 16,
   "metadata": {},
   "outputs": [],
   "source": [
    "model_output_directory = 'output/example/20190517-160221/default'"
   ]
  },
  {
   "cell_type": "code",
   "execution_count": 17,
   "metadata": {},
   "outputs": [],
   "source": [
    "base_dir = '.'\n",
    "metadata = load_metadata(model_output_directory, base_dir=base_dir)\n",
    "load_data = load_as_df_qantity\n",
    "variable = 'energy'\n",
    "q_data = load_data(f'{model_output_directory}/result_data_{variable}.hdf5')\n",
    "data = q_data.m\n",
    "unit = str(q_data.units)\n",
    "\n",
    "# monthly mean values for all processes\n",
    "mean = data.mean(level='time').mean()\n"
   ]
  },
  {
   "cell_type": "code",
   "execution_count": 19,
   "metadata": {},
   "outputs": [],
   "source": [
    "_d = data.mean(level='time').sum()"
   ]
  },
  {
   "cell_type": "code",
   "execution_count": 32,
   "metadata": {},
   "outputs": [
    {
     "data": {
      "text/plain": [
       "{'process a': 239753.08180004498,\n",
       " 'process c': 159835.38786669663,\n",
       " 'process b': 79917.69393334832}"
      ]
     },
     "execution_count": 32,
     "metadata": {},
     "output_type": "execute_result"
    }
   ],
   "source": [
    "{k:v for k,v in _d.items()}"
   ]
  },
  {
   "cell_type": "code",
   "execution_count": 34,
   "metadata": {},
   "outputs": [
    {
     "data": {
      "text/plain": [
       "['process a', 'process c', 'process b']"
      ]
     },
     "execution_count": 34,
     "metadata": {},
     "output_type": "execute_result"
    }
   ],
   "source": [
    "list(_d.keys())"
   ]
  },
  {
   "cell_type": "code",
   "execution_count": 35,
   "metadata": {},
   "outputs": [
    {
     "data": {
      "text/plain": [
       "[239753.08180004498, 159835.38786669663, 79917.69393334832]"
      ]
     },
     "execution_count": 35,
     "metadata": {},
     "output_type": "execute_result"
    }
   ],
   "source": [
    "list(_d.values)"
   ]
  },
  {
   "cell_type": "code",
   "execution_count": null,
   "metadata": {},
   "outputs": [],
   "source": []
  }
 ],
 "metadata": {
  "kernelspec": {
   "display_name": "Python 3",
   "language": "python",
   "name": "python3"
  },
  "language_info": {
   "codemirror_mode": {
    "name": "ipython",
    "version": 3
   },
   "file_extension": ".py",
   "mimetype": "text/x-python",
   "name": "python",
   "nbconvert_exporter": "python",
   "pygments_lexer": "ipython3",
   "version": "3.8.2"
  }
 },
 "nbformat": 4,
 "nbformat_minor": 2
}