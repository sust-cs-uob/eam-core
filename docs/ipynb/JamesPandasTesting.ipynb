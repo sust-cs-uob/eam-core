{
 "cells": [
  {
   "cell_type": "code",
   "execution_count": 1,
   "id": "bb03c52a",
   "metadata": {},
   "outputs": [
    {
     "data": {
      "text/plain": [
       "'/home/james/eam-core-provenance/docs/ipynb'"
      ]
     },
     "execution_count": 1,
     "metadata": {},
     "output_type": "execute_result"
    }
   ],
   "source": [
    "import os\n",
    "import sys\n",
    "\n",
    "def to_base_cwd():\n",
    "    os.chdir(os.path.join(os.getcwd(), '../..'))\n",
    "\n",
    "os.getcwd()"
   ]
  },
  {
   "cell_type": "code",
   "execution_count": 2,
   "id": "d86c04c2",
   "metadata": {},
   "outputs": [
    {
     "data": {
      "text/plain": [
       "'/home/james/eam-core-provenance/docs/ipynb'"
      ]
     },
     "execution_count": 2,
     "metadata": {},
     "output_type": "execute_result"
    }
   ],
   "source": [
    "#to_base_cwd()\n",
    "os.getcwd()"
   ]
  },
  {
   "cell_type": "code",
   "execution_count": 3,
   "id": "1a153026",
   "metadata": {},
   "outputs": [],
   "source": [
    "import pandas as pd \n",
    "import pint\n",
    "import numpy as np\n",
    "import pickle"
   ]
  },
  {
   "cell_type": "code",
   "execution_count": 11,
   "id": "e9d4900b",
   "metadata": {},
   "outputs": [
    {
     "name": "stdout",
     "output_type": "stream",
     "text": [
      "5\n"
     ]
    }
   ],
   "source": [
    "dfs = []\n",
    "dfs.append(pd.read_pickle('../../output/CDN.pickle'))\n",
    "dfs.append(pd.read_pickle('../../output/Cellular.pickle'))\n",
    "dfs.append(pd.read_pickle('../../output/Datacentres.pickle'))\n",
    "dfs.append(pd.read_pickle('../../output/End User Device.pickle'))\n",
    "dfs.append(pd.read_pickle('../../output/Modem Router.pickle'))\n",
    "\n",
    "print(len(dfs))"
   ]
  },
  {
   "cell_type": "code",
   "execution_count": 12,
   "id": "3bc8d0a1",
   "metadata": {},
   "outputs": [
    {
     "name": "stdout",
     "output_type": "stream",
     "text": [
      "                                         CDN\n",
      "time       samples group                    \n",
      "2020-01-01 0       A      1249.9999999999998\n",
      "                   B      2499.9999999999995\n",
      "                          Cellular\n",
      "time       samples group          \n",
      "2020-01-01 0       A      45.65625\n",
      "                   B       91.3125\n",
      "                          Datacentres\n",
      "time       samples                   \n",
      "2020-01-01 0        83.33333333333333\n",
      "                               End User Device\n",
      "time       samples group                      \n",
      "2020-01-01 0       A      0.030000000000000002\n",
      "                   B      0.060000000000000005\n",
      "                                Modem Router\n",
      "time       samples group                    \n",
      "2020-01-01 0       A      13.149000000000001\n",
      "                   B      26.298000000000002\n"
     ]
    }
   ],
   "source": [
    "for df in dfs:\n",
    "    print(df)"
   ]
  },
  {
   "cell_type": "code",
   "execution_count": 16,
   "id": "78b7bc2a",
   "metadata": {},
   "outputs": [
    {
     "data": {
      "text/html": [
       "<div>\n",
       "<style scoped>\n",
       "    .dataframe tbody tr th:only-of-type {\n",
       "        vertical-align: middle;\n",
       "    }\n",
       "\n",
       "    .dataframe tbody tr th {\n",
       "        vertical-align: top;\n",
       "    }\n",
       "\n",
       "    .dataframe thead th {\n",
       "        text-align: right;\n",
       "    }\n",
       "</style>\n",
       "<table border=\"1\" class=\"dataframe\">\n",
       "  <thead>\n",
       "    <tr style=\"text-align: right;\">\n",
       "      <th></th>\n",
       "      <th></th>\n",
       "      <th></th>\n",
       "      <th>CDN</th>\n",
       "    </tr>\n",
       "    <tr>\n",
       "      <th>time</th>\n",
       "      <th>samples</th>\n",
       "      <th>group</th>\n",
       "      <th></th>\n",
       "    </tr>\n",
       "  </thead>\n",
       "  <tbody>\n",
       "    <tr>\n",
       "      <th rowspan=\"2\" valign=\"top\">2020-01-01</th>\n",
       "      <th rowspan=\"2\" valign=\"top\">0</th>\n",
       "      <th>A</th>\n",
       "      <td>1249.9999999999998</td>\n",
       "    </tr>\n",
       "    <tr>\n",
       "      <th>B</th>\n",
       "      <td>2499.9999999999995</td>\n",
       "    </tr>\n",
       "  </tbody>\n",
       "</table>\n",
       "</div>"
      ],
      "text/plain": [
       "                                         CDN\n",
       "time       samples group                    \n",
       "2020-01-01 0       A      1249.9999999999998\n",
       "                   B      2499.9999999999995"
      ]
     },
     "execution_count": 16,
     "metadata": {},
     "output_type": "execute_result"
    }
   ],
   "source": [
    "cdn = dfs[0]\n",
    "cdn"
   ]
  },
  {
   "cell_type": "code",
   "execution_count": 23,
   "id": "6ad6213e",
   "metadata": {},
   "outputs": [
    {
     "name": "stdout",
     "output_type": "stream",
     "text": [
      "['A' 'B']\n"
     ]
    }
   ],
   "source": [
    "print(cdn.index.get_level_values('group').values)"
   ]
  },
  {
   "cell_type": "code",
   "execution_count": null,
   "id": "c2738e98",
   "metadata": {},
   "outputs": [],
   "source": []
  }
 ],
 "metadata": {
  "kernelspec": {
   "display_name": "Python 3 (ipykernel)",
   "language": "python",
   "name": "python3"
  },
  "language_info": {
   "codemirror_mode": {
    "name": "ipython",
    "version": 3
   },
   "file_extension": ".py",
   "mimetype": "text/x-python",
   "name": "python",
   "nbconvert_exporter": "python",
   "pygments_lexer": "ipython3",
   "version": "3.8.10"
  }
 },
 "nbformat": 4,
 "nbformat_minor": 5
}
