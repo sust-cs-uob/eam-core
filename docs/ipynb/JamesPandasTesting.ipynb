{
 "cells": [
  {
   "cell_type": "code",
   "execution_count": 1,
   "id": "065dae7f",
   "metadata": {},
   "outputs": [
    {
     "data": {
      "text/plain": [
       "'/home/james/eam-core-provenance/docs/ipynb'"
      ]
     },
     "execution_count": 1,
     "metadata": {},
     "output_type": "execute_result"
    }
   ],
   "source": [
    "import os\n",
    "import sys\n",
    "\n",
    "def to_base_cwd():\n",
    "    os.chdir(os.path.join(os.getcwd(), '../..'))\n",
    "\n",
    "os.getcwd()"
   ]
  },
  {
   "cell_type": "code",
   "execution_count": 2,
   "id": "e01306de",
   "metadata": {},
   "outputs": [
    {
     "data": {
      "text/plain": [
       "'/home/james/eam-core-provenance/docs/ipynb'"
      ]
     },
     "execution_count": 2,
     "metadata": {},
     "output_type": "execute_result"
    }
   ],
   "source": [
    "#to_base_cwd()\n",
    "os.getcwd()"
   ]
  },
  {
   "cell_type": "code",
   "execution_count": 3,
   "id": "df568812",
   "metadata": {},
   "outputs": [],
   "source": [
    "import pandas as pd \n",
    "import pint\n",
    "import numpy as np\n",
    "import pickle"
   ]
  },
  {
   "cell_type": "code",
   "execution_count": 61,
   "id": "44cf5e46",
   "metadata": {},
   "outputs": [
    {
     "name": "stdout",
     "output_type": "stream",
     "text": [
      "6\n"
     ]
    }
   ],
   "source": [
    "dfs = []\n",
    "dfs.append(pd.read_pickle('../../output/Datacentres.pickle'))\n",
    "dfs.append(pd.read_pickle('../../output/Cellular.pickle'))\n",
    "dfs.append(pd.read_pickle('../../output/Fixed Line.pickle'))\n",
    "dfs.append(pd.read_pickle('../../output/CDN.pickle'))\n",
    "dfs.append(pd.read_pickle('../../output/Modem Router.pickle'))\n",
    "dfs.append(pd.read_pickle('../../output/End User Device.pickle'))\n",
    "\n",
    "print(len(dfs))"
   ]
  },
  {
   "cell_type": "code",
   "execution_count": 62,
   "id": "09ad0333",
   "metadata": {},
   "outputs": [
    {
     "name": "stdout",
     "output_type": "stream",
     "text": [
      "time        samples\n",
      "2020-01-01  0          83.33333333333333\n",
      "dtype: pint[kilogram]\n",
      "time        samples  group\n",
      "2020-01-01  0        A        45.65625\n",
      "                     B         91.3125\n",
      "dtype: pint[kilogram]\n",
      "time        samples  group\n",
      "2020-01-01  0        A        6.8484375\n",
      "                     B        13.696875\n",
      "dtype: pint[kilogram]\n",
      "time        samples  group\n",
      "2020-01-01  0        A        1249.9999999999998\n",
      "                     B        2499.9999999999995\n",
      "dtype: pint[kilogram]\n",
      "time        samples  group\n",
      "2020-01-01  0        A        13.149000000000001\n",
      "                     B        26.298000000000002\n",
      "dtype: pint[kilogram]\n",
      "time        samples  group\n",
      "2020-01-01  0        A        0.030000000000000002\n",
      "                     B        0.060000000000000005\n",
      "dtype: pint[kilogram]\n"
     ]
    }
   ],
   "source": [
    "for df in dfs:\n",
    "    print(df)"
   ]
  },
  {
   "cell_type": "code",
   "execution_count": 63,
   "id": "3f8128a0",
   "metadata": {},
   "outputs": [
    {
     "data": {
      "text/plain": [
       "time        samples  group\n",
       "2020-01-01  0        A        1249.9999999999998\n",
       "                     B        2499.9999999999995\n",
       "dtype: pint[kilogram]"
      ]
     },
     "execution_count": 63,
     "metadata": {},
     "output_type": "execute_result"
    }
   ],
   "source": [
    "cdn = dfs[3]\n",
    "cdn"
   ]
  },
  {
   "cell_type": "code",
   "execution_count": 64,
   "id": "e0285c9c",
   "metadata": {},
   "outputs": [
    {
     "name": "stdout",
     "output_type": "stream",
     "text": [
      "['A' 'B']\n"
     ]
    }
   ],
   "source": [
    "print(cdn.index.get_level_values('group').values)"
   ]
  },
  {
   "cell_type": "code",
   "execution_count": 71,
   "id": "7829d4bb",
   "metadata": {},
   "outputs": [
    {
     "name": "stdout",
     "output_type": "stream",
     "text": [
      "(1,)\n",
      "(2,)\n",
      "(2,)\n",
      "(2,)\n",
      "(2,)\n",
      "(2,)\n"
     ]
    },
    {
     "data": {
      "text/html": [
       "<div>\n",
       "<style scoped>\n",
       "    .dataframe tbody tr th:only-of-type {\n",
       "        vertical-align: middle;\n",
       "    }\n",
       "\n",
       "    .dataframe tbody tr th {\n",
       "        vertical-align: top;\n",
       "    }\n",
       "\n",
       "    .dataframe thead th {\n",
       "        text-align: right;\n",
       "    }\n",
       "</style>\n",
       "<table border=\"1\" class=\"dataframe\">\n",
       "  <thead>\n",
       "    <tr style=\"text-align: right;\">\n",
       "      <th></th>\n",
       "      <th></th>\n",
       "      <th></th>\n",
       "      <th>0</th>\n",
       "      <th>1</th>\n",
       "      <th>2</th>\n",
       "      <th>3</th>\n",
       "      <th>4</th>\n",
       "      <th>5</th>\n",
       "    </tr>\n",
       "    <tr>\n",
       "      <th>time</th>\n",
       "      <th>samples</th>\n",
       "      <th>group</th>\n",
       "      <th></th>\n",
       "      <th></th>\n",
       "      <th></th>\n",
       "      <th></th>\n",
       "      <th></th>\n",
       "      <th></th>\n",
       "    </tr>\n",
       "  </thead>\n",
       "  <tbody>\n",
       "    <tr>\n",
       "      <th rowspan=\"2\" valign=\"top\">2020-01-01</th>\n",
       "      <th rowspan=\"2\" valign=\"top\">0</th>\n",
       "      <th>A</th>\n",
       "      <td>0.030000000000000002</td>\n",
       "      <td>13.149000000000001</td>\n",
       "      <td>1249.9999999999998</td>\n",
       "      <td>6.8484375</td>\n",
       "      <td>45.65625</td>\n",
       "      <td>83.33333333333333</td>\n",
       "    </tr>\n",
       "    <tr>\n",
       "      <th>B</th>\n",
       "      <td>0.060000000000000005</td>\n",
       "      <td>26.298000000000002</td>\n",
       "      <td>2499.9999999999995</td>\n",
       "      <td>13.696875</td>\n",
       "      <td>91.3125</td>\n",
       "      <td>83.33333333333333</td>\n",
       "    </tr>\n",
       "  </tbody>\n",
       "</table>\n",
       "</div>"
      ],
      "text/plain": [
       "                                             0                   1  \\\n",
       "time       samples group                                             \n",
       "2020-01-01 0       A      0.030000000000000002  13.149000000000001   \n",
       "                   B      0.060000000000000005  26.298000000000002   \n",
       "\n",
       "                                           2          3         4  \\\n",
       "time       samples group                                            \n",
       "2020-01-01 0       A      1249.9999999999998  6.8484375  45.65625   \n",
       "                   B      2499.9999999999995  13.696875   91.3125   \n",
       "\n",
       "                                          5  \n",
       "time       samples group                     \n",
       "2020-01-01 0       A      83.33333333333333  \n",
       "                   B      83.33333333333333  "
      ]
     },
     "execution_count": 71,
     "metadata": {},
     "output_type": "execute_result"
    }
   ],
   "source": [
    "res = pd.DataFrame()\n",
    "for i in range(len(dfs)):\n",
    "    print(dfs[i].shape)\n",
    "    res[str(i)] = dfs[len(dfs)-i-1]\n",
    "    #res[str(i)] = dfs[i]\n",
    "res"
   ]
  },
  {
   "cell_type": "code",
   "execution_count": 72,
   "id": "1fafdd1b",
   "metadata": {},
   "outputs": [
    {
     "data": {
      "text/html": [
       "<div>\n",
       "<style scoped>\n",
       "    .dataframe tbody tr th:only-of-type {\n",
       "        vertical-align: middle;\n",
       "    }\n",
       "\n",
       "    .dataframe tbody tr th {\n",
       "        vertical-align: top;\n",
       "    }\n",
       "\n",
       "    .dataframe thead tr th {\n",
       "        text-align: left;\n",
       "    }\n",
       "\n",
       "    .dataframe thead tr:last-of-type th {\n",
       "        text-align: right;\n",
       "    }\n",
       "</style>\n",
       "<table border=\"1\" class=\"dataframe\">\n",
       "  <thead>\n",
       "    <tr>\n",
       "      <th></th>\n",
       "      <th></th>\n",
       "      <th></th>\n",
       "      <th>CDN</th>\n",
       "      <th>Internet Network</th>\n",
       "      <th>Laptop</th>\n",
       "    </tr>\n",
       "    <tr>\n",
       "      <th></th>\n",
       "      <th></th>\n",
       "      <th>unit</th>\n",
       "      <th>megametric_ton</th>\n",
       "      <th>megametric_ton</th>\n",
       "      <th>megametric_ton</th>\n",
       "    </tr>\n",
       "    <tr>\n",
       "      <th>time</th>\n",
       "      <th>samples</th>\n",
       "      <th>group</th>\n",
       "      <th></th>\n",
       "      <th></th>\n",
       "      <th></th>\n",
       "    </tr>\n",
       "  </thead>\n",
       "  <tbody>\n",
       "    <tr>\n",
       "      <th rowspan=\"2\" valign=\"top\">2019-01-01</th>\n",
       "      <th rowspan=\"2\" valign=\"top\">0</th>\n",
       "      <th>A</th>\n",
       "      <td>2.500000e-11</td>\n",
       "      <td>2.500000e-11</td>\n",
       "      <td>2.000000e-07</td>\n",
       "    </tr>\n",
       "    <tr>\n",
       "      <th>B</th>\n",
       "      <td>2.500000e-11</td>\n",
       "      <td>2.500000e-11</td>\n",
       "      <td>2.000000e-07</td>\n",
       "    </tr>\n",
       "    <tr>\n",
       "      <th rowspan=\"2\" valign=\"top\">2019-02-01</th>\n",
       "      <th rowspan=\"2\" valign=\"top\">0</th>\n",
       "      <th>A</th>\n",
       "      <td>2.500000e-11</td>\n",
       "      <td>2.500000e-11</td>\n",
       "      <td>2.000000e-07</td>\n",
       "    </tr>\n",
       "    <tr>\n",
       "      <th>B</th>\n",
       "      <td>2.500000e-11</td>\n",
       "      <td>2.500000e-11</td>\n",
       "      <td>2.000000e-07</td>\n",
       "    </tr>\n",
       "    <tr>\n",
       "      <th>2019-03-01</th>\n",
       "      <th>0</th>\n",
       "      <th>A</th>\n",
       "      <td>2.500000e-11</td>\n",
       "      <td>2.500000e-11</td>\n",
       "      <td>2.000000e-07</td>\n",
       "    </tr>\n",
       "  </tbody>\n",
       "</table>\n",
       "</div>"
      ],
      "text/plain": [
       "                                    CDN Internet Network         Laptop\n",
       "unit                     megametric_ton   megametric_ton megametric_ton\n",
       "time       samples group                                               \n",
       "2019-01-01 0       A       2.500000e-11     2.500000e-11   2.000000e-07\n",
       "                   B       2.500000e-11     2.500000e-11   2.000000e-07\n",
       "2019-02-01 0       A       2.500000e-11     2.500000e-11   2.000000e-07\n",
       "                   B       2.500000e-11     2.500000e-11   2.000000e-07\n",
       "2019-03-01 0       A       2.500000e-11     2.500000e-11   2.000000e-07"
      ]
     },
     "execution_count": 72,
     "metadata": {},
     "output_type": "execute_result"
    }
   ],
   "source": [
    "from eam_core import util\n",
    "data, metadata = util.h5load('../../output/result_data_carbon.hdf5')\n",
    "data.head(5)"
   ]
  },
  {
   "cell_type": "code",
   "execution_count": null,
   "id": "30daca0d",
   "metadata": {},
   "outputs": [],
   "source": []
  }
 ],
 "metadata": {
  "kernelspec": {
   "display_name": "Python 3 (ipykernel)",
   "language": "python",
   "name": "python3"
  },
  "language_info": {
   "codemirror_mode": {
    "name": "ipython",
    "version": 3
   },
   "file_extension": ".py",
   "mimetype": "text/x-python",
   "name": "python",
   "nbconvert_exporter": "python",
   "pygments_lexer": "ipython3",
   "version": "3.8.10"
  }
 },
 "nbformat": 4,
 "nbformat_minor": 5
}
