{
 "cells": [
  {
   "cell_type": "markdown",
   "id": "9d2dbc64",
   "metadata": {},
   "source": [
    "# Pandas Series and Dataframe testing\n",
    "\n",
    "Pandas introduces the Series object, which stores an array of data against several dimensions of columns. These can be merged into a DataFrame object, which acts like a table of this high-dimensional data.\n",
    "\n",
    "Currently, the goal is to upgrade from a two-dimensional dataframe of (dates, samples) to an optional three-dimensional (dates, samples, groups) model. Only some of these Series may contain this extra dimension of data, and some may contain data for a subset of groups.\n",
    "\n",
    "The goal is therefore to find a way to combine these series into a dataframe safely and preserving data."
   ]
  },
  {
   "cell_type": "code",
   "execution_count": 1,
   "id": "0d879620",
   "metadata": {},
   "outputs": [
    {
     "data": {
      "text/plain": [
       "'/home/james/eam-core-provenance/docs/ipynb'"
      ]
     },
     "execution_count": 1,
     "metadata": {},
     "output_type": "execute_result"
    }
   ],
   "source": [
    "import os\n",
    "import sys\n",
    "\n",
    "def to_base_cwd():\n",
    "    os.chdir(os.path.join(os.getcwd(), '../..'))\n",
    "\n",
    "os.getcwd()"
   ]
  },
  {
   "cell_type": "code",
   "execution_count": 2,
   "id": "76f9b4e9",
   "metadata": {},
   "outputs": [
    {
     "data": {
      "text/plain": [
       "'/home/james/eam-core-provenance/docs/ipynb'"
      ]
     },
     "execution_count": 2,
     "metadata": {},
     "output_type": "execute_result"
    }
   ],
   "source": [
    "#to_base_cwd()\n",
    "os.getcwd()"
   ]
  },
  {
   "cell_type": "code",
   "execution_count": 3,
   "id": "07f2edbe",
   "metadata": {},
   "outputs": [],
   "source": [
    "import pandas as pd \n",
    "import pint\n",
    "import numpy as np\n",
    "import pickle"
   ]
  },
  {
   "cell_type": "markdown",
   "id": "13a95f92",
   "metadata": {},
   "source": [
    "## Creating Series\n",
    "\n",
    "First, the series data must be loaded or generated.\n",
    "\n",
    "- When loading series, the data is obtained from pickling the calculation traces in `util.py store_dataframe()`.\n",
    "\n",
    "- When generating a series, we can introduce data that models some of the acceptable edge cases expected; without countries or using only a subset of countries. "
   ]
  },
  {
   "cell_type": "code",
   "execution_count": 4,
   "id": "65fcb773",
   "metadata": {},
   "outputs": [],
   "source": [
    "def load_series_from_files():\n",
    "    res = []\n",
    "    res.append(pd.read_pickle('pickle_data/Datacentres.pickle'))\n",
    "    res.append(pd.read_pickle('pickle_data/Cellular.pickle'))\n",
    "    res.append(pd.read_pickle('pickle_data/Fixed Line.pickle'))\n",
    "    res.append(pd.read_pickle('pickle_data/CDN.pickle'))\n",
    "    res.append(pd.read_pickle('pickle_data/Modem Router.pickle'))\n",
    "    res.append(pd.read_pickle('pickle_data/End User Device.pickle'))\n",
    "    \n",
    "    return res\n",
    "\n",
    "def generate_series_list():\n",
    "    times = pd.date_range('2020-01-01', '2020-3-01', freq='MS')\n",
    "    sample_size = 3\n",
    "    groups_full = ['A', 'B', 'C']\n",
    "    \n",
    "    series_length = len(times) * sample_size * len(groups_full)\n",
    "    index_names_full = ['time', 'samples', 'group']\n",
    "\n",
    "    \n",
    "    iterables = [times, range(sample_size), groups_full]\n",
    "    df_multi_index = pd.MultiIndex.from_product(iterables, names=index_names_full)\n",
    "    s1 = pd.Series(data=range(series_length), index=df_multi_index, name='FULL_A')\n",
    "    \n",
    "    iterables = [times, range(sample_size), groups_full[:2]]\n",
    "    df_multi_index = pd.MultiIndex.from_product(iterables, names=index_names_full)\n",
    "    s2 = pd.Series(data=range(int(series_length * 2/3)), index=df_multi_index, name='TWO_COUNTRIES')\n",
    "    \n",
    "    iterables = [times, range(sample_size)]\n",
    "    df_multi_index = pd.MultiIndex.from_product(iterables, names=index_names_full[:2])\n",
    "    s3 = pd.Series(data=range(int(series_length / 3)), index=df_multi_index, name='NO_GROUPS_A')  \n",
    "    \n",
    "    iterables = [times, range(sample_size), groups_full[:1]]\n",
    "    df_multi_index = pd.MultiIndex.from_product(iterables, names=index_names_full)\n",
    "    s4 = pd.Series(data=range(int(series_length * 1/3)), index=df_multi_index, name='ONE_COUNTRY')\n",
    "    \n",
    "    iterables = [times, range(sample_size)]\n",
    "    df_multi_index = pd.MultiIndex.from_product(iterables, names=index_names_full[:2])\n",
    "    s5 = pd.Series(data=range(int(series_length / 3)), index=df_multi_index, name='NO_GROUPS_B')\n",
    "    \n",
    "    return [s1,s2,s3,s4,s5]\n",
    "\n",
    "def get_generated_series_indexing():\n",
    "    times = pd.date_range('2020-01-01', '2020-3-01', freq='MS')\n",
    "    sample_size = 3\n",
    "    groups = ['A', 'B', 'C']\n",
    "    \n",
    "    iterables = [times, range(sample_size), groups]\n",
    "    \n",
    "    return iterables, times"
   ]
  },
  {
   "cell_type": "markdown",
   "id": "9259027b",
   "metadata": {},
   "source": [
    "## Interacting with Series\n",
    "\n",
    "Here, series are loaded as a list.\n",
    "\n",
    "When combining series into the empty dataframe, they must only decrease in dimensionality, or an error is thrown.\n",
    "\n",
    "So, its fine if the series are ordered in decreasing dimensionality; but this is time-consuming and there ought to be a better way.\n",
    "\n",
    "The solution is to generate the dataframe with a defined multi-index of the maximum possible dimensions and groups. This way, every series is a non-strict subset of the DataFrame, and errors are avoided.\n",
    "\n",
    "### How series are merged\n",
    "\n",
    "Interesting to note is _how_ pandas performs the merge.\n",
    "\n",
    "- One case is when merging a series with the same dimensionality, but a subset in an index. For example, only one or two countries of a possible three. Here, the missing data is filled in with `NaN` (and, presumably as a result, the other values are interpreted as floats; TODO need to check this with Pint to investigate the effect this has with Pint value arrays!\n",
    "\n",
    "- The other case is when a dimension is missing entirely, for example if a series without group data is merged. In this case, the data is duplicated across the new dimension."
   ]
  },
  {
   "cell_type": "code",
   "execution_count": 5,
   "id": "afc12311",
   "metadata": {},
   "outputs": [
    {
     "data": {
      "text/plain": [
       "6"
      ]
     },
     "execution_count": 5,
     "metadata": {},
     "output_type": "execute_result"
    }
   ],
   "source": [
    "series = generate_series_list()\n",
    "series = load_series_from_files()\n",
    "len(series)"
   ]
  },
  {
   "cell_type": "code",
   "execution_count": 6,
   "id": "603bd330",
   "metadata": {},
   "outputs": [],
   "source": [
    "for s in series:\n",
    "    #print(s)\n",
    "    continue"
   ]
  },
  {
   "cell_type": "code",
   "execution_count": 7,
   "id": "cd85576e",
   "metadata": {},
   "outputs": [],
   "source": [
    "#cdn = series[3]\n",
    "#print(cdn.index.get_level_values('group').values)\n",
    "#cdn"
   ]
  },
  {
   "cell_type": "code",
   "execution_count": 8,
   "id": "4c27806e",
   "metadata": {},
   "outputs": [
    {
     "name": "stdout",
     "output_type": "stream",
     "text": [
      "(1,)\n",
      "(2,)\n",
      "(2,)\n",
      "(2,)\n",
      "(2,)\n",
      "(2,)\n"
     ]
    },
    {
     "data": {
      "text/html": [
       "<div>\n",
       "<style scoped>\n",
       "    .dataframe tbody tr th:only-of-type {\n",
       "        vertical-align: middle;\n",
       "    }\n",
       "\n",
       "    .dataframe tbody tr th {\n",
       "        vertical-align: top;\n",
       "    }\n",
       "\n",
       "    .dataframe thead th {\n",
       "        text-align: right;\n",
       "    }\n",
       "</style>\n",
       "<table border=\"1\" class=\"dataframe\">\n",
       "  <thead>\n",
       "    <tr style=\"text-align: right;\">\n",
       "      <th></th>\n",
       "    </tr>\n",
       "  </thead>\n",
       "  <tbody>\n",
       "  </tbody>\n",
       "</table>\n",
       "</div>"
      ],
      "text/plain": [
       "Empty DataFrame\n",
       "Columns: []\n",
       "Index: []"
      ]
     },
     "execution_count": 8,
     "metadata": {},
     "output_type": "execute_result"
    }
   ],
   "source": [
    "df_blank = pd.DataFrame()\n",
    "for i in range(len(series)):\n",
    "    print(series[i].shape)\n",
    "    #df_blank[str(i)] = series[len(series)-i-1]\n",
    "    #df_blank[str(i)] = series[i]\n",
    "df_blank"
   ]
  },
  {
   "cell_type": "code",
   "execution_count": 13,
   "id": "20c82a83",
   "metadata": {},
   "outputs": [
    {
     "name": "stdout",
     "output_type": "stream",
     "text": [
      "(1,)\n",
      "(2,)\n",
      "{'A', 'B'}\n",
      "(2,)\n",
      "{'A', 'B'}\n",
      "(2,)\n",
      "{'A', 'B'}\n",
      "(2,)\n",
      "{'A', 'B'}\n",
      "(2,)\n",
      "{'A', 'B'}\n"
     ]
    },
    {
     "data": {
      "text/html": [
       "<div>\n",
       "<style scoped>\n",
       "    .dataframe tbody tr th:only-of-type {\n",
       "        vertical-align: middle;\n",
       "    }\n",
       "\n",
       "    .dataframe tbody tr th {\n",
       "        vertical-align: top;\n",
       "    }\n",
       "\n",
       "    .dataframe thead th {\n",
       "        text-align: right;\n",
       "    }\n",
       "</style>\n",
       "<table border=\"1\" class=\"dataframe\">\n",
       "  <thead>\n",
       "    <tr style=\"text-align: right;\">\n",
       "      <th></th>\n",
       "      <th></th>\n",
       "      <th></th>\n",
       "      <th>None</th>\n",
       "    </tr>\n",
       "    <tr>\n",
       "      <th>time</th>\n",
       "      <th>samples</th>\n",
       "      <th>group</th>\n",
       "      <th></th>\n",
       "    </tr>\n",
       "  </thead>\n",
       "  <tbody>\n",
       "    <tr>\n",
       "      <th rowspan=\"2\" valign=\"top\">2020-01-01</th>\n",
       "      <th rowspan=\"2\" valign=\"top\">0</th>\n",
       "      <th>A</th>\n",
       "      <td>0.030000000000000002</td>\n",
       "    </tr>\n",
       "    <tr>\n",
       "      <th>B</th>\n",
       "      <td>0.060000000000000005</td>\n",
       "    </tr>\n",
       "  </tbody>\n",
       "</table>\n",
       "</div>"
      ],
      "text/plain": [
       "                                           NaN\n",
       "time       samples group                      \n",
       "2020-01-01 0       A      0.030000000000000002\n",
       "                   B      0.060000000000000005"
      ]
     },
     "execution_count": 13,
     "metadata": {},
     "output_type": "execute_result"
    }
   ],
   "source": [
    "times = pd.date_range('2020-01-01', '2020-01-01', freq='MS')\n",
    "sample_size = 1\n",
    "groups = ['A', 'B']\n",
    "iterables = [times, range(sample_size), groups]\n",
    "index_names = ['time', 'samples', 'group']\n",
    "\n",
    "#don't call this if using pickle data\n",
    "#iterables, times = get_generated_series_indexing()\n",
    "\n",
    "df_multi_index = pd.MultiIndex.from_product(iterables, names=index_names)\n",
    "df_index = pd.DataFrame(index=df_multi_index)\n",
    "\n",
    "for i in range(len(series)):\n",
    "    print(series[i].shape)\n",
    "    if 'group' in series[i].index.names:\n",
    "        print(set(series[i].index.get_level_values('group').values))\n",
    "    #df_index[str(i)] = series[len(series)-i-1]\n",
    "    if series[i].name is None: series[i].name = \n",
    "    df_index[series[i].name] = series[i]\n",
    "    \n",
    "# this demonstrates that different shaped series can be merged into a dataframe\n",
    "df_index"
   ]
  },
  {
   "cell_type": "code",
   "execution_count": 10,
   "id": "16cf3e08",
   "metadata": {},
   "outputs": [
    {
     "name": "stdout",
     "output_type": "stream",
     "text": [
      "[\u001b[1mroot                \u001b[0m][\u001b[1;32mINFO\u001b[0m   ]  Configured logging from /home/james/eam-core-provenance/src/eam_core/logconf.yml (\u001b[1mlog_configuration.py\u001b[0m:30)\n",
      "[\u001b[1mnumexpr.utils       \u001b[0m][\u001b[1;32mINFO\u001b[0m   ]  NumExpr defaulting to 8 threads. (\u001b[1mutils.py\u001b[0m:157)\n"
     ]
    },
    {
     "data": {
      "text/html": [
       "<div>\n",
       "<style scoped>\n",
       "    .dataframe tbody tr th:only-of-type {\n",
       "        vertical-align: middle;\n",
       "    }\n",
       "\n",
       "    .dataframe tbody tr th {\n",
       "        vertical-align: top;\n",
       "    }\n",
       "\n",
       "    .dataframe thead tr th {\n",
       "        text-align: left;\n",
       "    }\n",
       "\n",
       "    .dataframe thead tr:last-of-type th {\n",
       "        text-align: right;\n",
       "    }\n",
       "</style>\n",
       "<table border=\"1\" class=\"dataframe\">\n",
       "  <thead>\n",
       "    <tr>\n",
       "      <th></th>\n",
       "      <th></th>\n",
       "      <th></th>\n",
       "      <th>CDN</th>\n",
       "      <th>Internet Network</th>\n",
       "      <th>Laptop</th>\n",
       "    </tr>\n",
       "    <tr>\n",
       "      <th></th>\n",
       "      <th></th>\n",
       "      <th>unit</th>\n",
       "      <th>megametric_ton</th>\n",
       "      <th>megametric_ton</th>\n",
       "      <th>megametric_ton</th>\n",
       "    </tr>\n",
       "    <tr>\n",
       "      <th>time</th>\n",
       "      <th>samples</th>\n",
       "      <th>group</th>\n",
       "      <th></th>\n",
       "      <th></th>\n",
       "      <th></th>\n",
       "    </tr>\n",
       "  </thead>\n",
       "  <tbody>\n",
       "    <tr>\n",
       "      <th rowspan=\"2\" valign=\"top\">2019-01-01</th>\n",
       "      <th rowspan=\"2\" valign=\"top\">0</th>\n",
       "      <th>A</th>\n",
       "      <td>2.500000e-11</td>\n",
       "      <td>2.500000e-11</td>\n",
       "      <td>2.000000e-07</td>\n",
       "    </tr>\n",
       "    <tr>\n",
       "      <th>B</th>\n",
       "      <td>2.500000e-11</td>\n",
       "      <td>2.500000e-11</td>\n",
       "      <td>2.000000e-07</td>\n",
       "    </tr>\n",
       "    <tr>\n",
       "      <th rowspan=\"2\" valign=\"top\">2019-02-01</th>\n",
       "      <th rowspan=\"2\" valign=\"top\">0</th>\n",
       "      <th>A</th>\n",
       "      <td>2.500000e-11</td>\n",
       "      <td>2.500000e-11</td>\n",
       "      <td>2.000000e-07</td>\n",
       "    </tr>\n",
       "    <tr>\n",
       "      <th>B</th>\n",
       "      <td>2.500000e-11</td>\n",
       "      <td>2.500000e-11</td>\n",
       "      <td>2.000000e-07</td>\n",
       "    </tr>\n",
       "    <tr>\n",
       "      <th>2019-03-01</th>\n",
       "      <th>0</th>\n",
       "      <th>A</th>\n",
       "      <td>2.500000e-11</td>\n",
       "      <td>2.500000e-11</td>\n",
       "      <td>2.000000e-07</td>\n",
       "    </tr>\n",
       "  </tbody>\n",
       "</table>\n",
       "</div>"
      ],
      "text/plain": [
       "                                    CDN Internet Network         Laptop\n",
       "unit                     megametric_ton   megametric_ton megametric_ton\n",
       "time       samples group                                               \n",
       "2019-01-01 0       A       2.500000e-11     2.500000e-11   2.000000e-07\n",
       "                   B       2.500000e-11     2.500000e-11   2.000000e-07\n",
       "2019-02-01 0       A       2.500000e-11     2.500000e-11   2.000000e-07\n",
       "                   B       2.500000e-11     2.500000e-11   2.000000e-07\n",
       "2019-03-01 0       A       2.500000e-11     2.500000e-11   2.000000e-07"
      ]
     },
     "execution_count": 10,
     "metadata": {},
     "output_type": "execute_result"
    }
   ],
   "source": [
    "from eam_core import util\n",
    "data, metadata = util.h5load('pickle_data/result_data_carbon.hdf5')\n",
    "data.head(5)"
   ]
  },
  {
   "cell_type": "code",
   "execution_count": null,
   "id": "8096931c",
   "metadata": {},
   "outputs": [],
   "source": []
  }
 ],
 "metadata": {
  "kernelspec": {
   "display_name": "Python 3 (ipykernel)",
   "language": "python",
   "name": "python3"
  },
  "language_info": {
   "codemirror_mode": {
    "name": "ipython",
    "version": 3
   },
   "file_extension": ".py",
   "mimetype": "text/x-python",
   "name": "python",
   "nbconvert_exporter": "python",
   "pygments_lexer": "ipython3",
   "version": "3.8.10"
  }
 },
 "nbformat": 4,
 "nbformat_minor": 5
}
