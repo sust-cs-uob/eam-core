{
 "cells": [
  {
   "cell_type": "code",
   "execution_count": 2,
   "metadata": {
    "collapsed": true
   },
   "outputs": [],
   "source": [
    "import pint\n",
    "import numpy as np"
   ]
  },
  {
   "cell_type": "code",
   "execution_count": 3,
   "outputs": [],
   "source": [
    "ureg = pint.UnitRegistry()"
   ],
   "metadata": {
    "collapsed": false,
    "pycharm": {
     "name": "#%%\n"
    }
   }
  },
  {
   "cell_type": "code",
   "execution_count": 19,
   "outputs": [],
   "source": [
    "watt_per_megabit_per_sec_1 = ((1 * ureg.watt) / (1 * ureg.megabit)) / (1 * ureg.second)\n",
    "watt_per_megabit_per_sec_2 = (1 * ureg.watt) / ((1 * ureg.megabit) / (1 * ureg.second))\n",
    "\n",
    "# bracketing in excel file works and is key for specifying how pint interprets units!\n",
    "# W/Mbits/s != W/(Mbits/s)\n"
   ],
   "metadata": {
    "collapsed": false,
    "pycharm": {
     "name": "#%%\n"
    }
   }
  },
  {
   "cell_type": "code",
   "execution_count": 13,
   "outputs": [
    {
     "data": {
      "text/plain": "1.0 <Unit('watt / megabit / second')>",
      "text/html": "1.0 watt/(megabit second)",
      "text/latex": "$1.0\\ \\frac{\\mathrm{watt}}{\\left(\\mathrm{megabit} \\cdot \\mathrm{second}\\right)}$"
     },
     "execution_count": 13,
     "metadata": {},
     "output_type": "execute_result"
    }
   ],
   "source": [
    "watt_per_megabit_per_sec_1"
   ],
   "metadata": {
    "collapsed": false,
    "pycharm": {
     "name": "#%%\n"
    }
   }
  },
  {
   "cell_type": "code",
   "execution_count": 15,
   "outputs": [
    {
     "data": {
      "text/plain": "1.0 <Unit('second * watt / megabit')>",
      "text/html": "1.0 second watt/megabit",
      "text/latex": "$1.0\\ \\frac{\\mathrm{second} \\cdot \\mathrm{watt}}{\\mathrm{megabit}}$"
     },
     "execution_count": 15,
     "metadata": {},
     "output_type": "execute_result"
    }
   ],
   "source": [
    "watt_per_megabit_per_sec_2"
   ],
   "metadata": {
    "collapsed": false,
    "pycharm": {
     "name": "#%%\n"
    }
   }
  },
  {
   "cell_type": "code",
   "execution_count": 17,
   "outputs": [],
   "source": [
    "watt_per_megabit_per_sec_3 = 1 * ureg.bits"
   ],
   "metadata": {
    "collapsed": false,
    "pycharm": {
     "name": "#%%\n"
    }
   }
  },
  {
   "cell_type": "code",
   "execution_count": 18,
   "outputs": [
    {
     "data": {
      "text/plain": "1 <Unit('bit')>",
      "text/html": "1 bit",
      "text/latex": "$1\\ \\mathrm{bit}$"
     },
     "execution_count": 18,
     "metadata": {},
     "output_type": "execute_result"
    }
   ],
   "source": [
    "watt_per_megabit_per_sec_3"
   ],
   "metadata": {
    "collapsed": false,
    "pycharm": {
     "name": "#%%\n"
    }
   }
  },
  {
   "cell_type": "code",
   "execution_count": null,
   "outputs": [],
   "source": [],
   "metadata": {
    "collapsed": false,
    "pycharm": {
     "name": "#%%\n"
    }
   }
  }
 ],
 "metadata": {
  "kernelspec": {
   "display_name": "Python 3",
   "language": "python",
   "name": "python3"
  },
  "language_info": {
   "codemirror_mode": {
    "name": "ipython",
    "version": 2
   },
   "file_extension": ".py",
   "mimetype": "text/x-python",
   "name": "python",
   "nbconvert_exporter": "python",
   "pygments_lexer": "ipython2",
   "version": "2.7.6"
  }
 },
 "nbformat": 4,
 "nbformat_minor": 0
}